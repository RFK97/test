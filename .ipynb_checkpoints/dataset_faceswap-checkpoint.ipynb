{
 "cells": [
  {
   "cell_type": "code",
   "execution_count": 2,
   "metadata": {},
   "outputs": [],
   "source": [
    "import cv2\n",
    "import dlib\n",
    "import numpy\n",
    "import sys"
   ]
  },
  {
   "cell_type": "code",
   "execution_count": 7,
   "metadata": {},
   "outputs": [],
   "source": [
    "#face landmark 뽑는 함수\n",
    "\n",
    "detector = dlib.get_frontal_face_detector()\n",
    "predictor = dlib.shape_predictor('shape_predictor_68_face_landmarks.dat')\n",
    "\n",
    "def get_landmarks(im): \n",
    "    rects = detector(im,1) # rects = 얼굴 검출기로 검출한 얼굴 list \n",
    "    if len(rects) > 1 :\n",
    "        raise TooManyFaces\n",
    "    if len(rects) == 0:\n",
    "        raise NoFaces #raise : 오류발생시키는 명령어\n",
    "    return numpy.matrix([p.x,p.y] for p in predictor(im, rects[0]).parts())\n",
    "#numpy.matrix([]) 이걸이용해서 굳이 face_utils.shape_to_np()안해도 numpy로 바꿔줌\n"
   ]
  },
  {
   "cell_type": "code",
   "execution_count": 8,
   "metadata": {},
   "outputs": [],
   "source": [
    "#point1 과 point2가 같은 방향벡터를 갖도록 변환하는 선형벡터를 만드는 함수 \n",
    "\n",
    "def transformation_from_points(points1, points2):\n",
    "    points1 = points1.astype(numpy.float64) #numpy가 다룰수있는 numpyarray로 변환\n",
    "    points2 = points2.astype(numpy.float64)\n",
    "    \n",
    "    c1=numpy.mean(points1,axis=0) #facelandmark x축의 평균..?\n",
    "    c2=numpy.mean(points2,axis=0) \n",
    "    points1 -= c1 # 실제 x값들에서 평균뺌. (0을 중심으로 하도록 이동시킨거지)\n",
    "    points2 -= c2\n",
    "    \n",
    "    s1=numpy.std(points1) #표준편차\n",
    "    s2=numpy.std(points2) \n",
    "    \n",
    "    points1 /= s1 #z점수 ((X-m)/표준편차)=표준점수. \n",
    "    #통계학적으로 정규분포를 만들고 개개의 경우가 표준편차상에 어떤위치를 차지하는지 보여주는 차원없는 수치)\n",
    "    points2 /= s2 \n",
    "\n",
    "    U,S,Vt = numpy.linalg.svd(points1.T * points2)\n",
    "    # SVD 특이값분해 : 모든 m x n행렬에 대해 행렬을 대각화 하는 방법\n",
    "    # 기하학적의미 -> 회전변환(직교행렬) 후 각 좌표성분으로 스케일변환(대각행렬) 후 다시 회전변환(직교행렬)\n",
    "    # 선형대수 하루 날잡고 공부\n",
    "    # 고유벡터 : 선형변환 A에 의해 방향은 보존되고 스케일만 변환되는 방향벡터 \n",
    "    # 고유값 : 그 고유벡터의 변화되는 스케일정도 \n",
    "    #U = AA트랜스포즈 를 고유값 분해하여 얻어진 m x m 직교행렬  \n",
    "    #V = A트랜스포즈A를 고유값분해해서 얻어진 n x n 직교행렬\n",
    "    #S = U,V에서 나온 고유값들의 sware root를 대각원소로 하는 m x n 직사각 대각행렬 \n",
    "    R=(U*Vt).T\n",
    "    \n",
    "    return numpy.vstack([numpy.hstack(((s2 / s1) * R,\n",
    "                                       c2.T - (s2 / s1) * R * c1.T)),\n",
    "                         numpy.matrix([0., 0., 1.])]) \n",
    "    #아핀변환. 원점과 기저벡터가 주어질때 한 벡터공간을 다른 벡터공간으로 대응시키는 변환\n",
    "\n",
    "    \n",
    "    "
   ]
  },
  {
   "cell_type": "code",
   "execution_count": 10,
   "metadata": {},
   "outputs": [],
   "source": [
    "#전체이미지에 아핀변환 적용해주는 함수.. \n",
    "\n",
    "def warp_im(im,M,dshape):\n",
    "    output_im = numpy.zeros(dshape,dtype=im.dtype)\n",
    "    cv2.warpAffine(im,  # 바꿀 이미지 (input이미지)\n",
    "                   M[:2], # 아핀변환 매트릭스 정보\n",
    "                   (dshape[1], dshape[0]), # 아웃풋이미지 사이즈\n",
    "                   dst = output_im, #결과이미지 (output이미지)\n",
    "                   borderMode = cv2.BORDER_TRANSPARENT, #이미지 픽셀이 함수에 의해 수정되지않음(???)\n",
    "                   flags=cv2.WARP_INVERSE_MAP #보간법(???)\n",
    "                  )\n",
    "    return output_im\n"
   ]
  },
  {
   "cell_type": "code",
   "execution_count": 11,
   "metadata": {},
   "outputs": [
    {
     "ename": "SyntaxError",
     "evalue": "unexpected EOF while parsing (<ipython-input-11-5d25d11b587a>, line 21)",
     "output_type": "error",
     "traceback": [
      "\u001b[1;36m  File \u001b[1;32m\"<ipython-input-11-5d25d11b587a>\"\u001b[1;36m, line \u001b[1;32m21\u001b[0m\n\u001b[1;33m    im2_blur.astype(numpy.float64)\u001b[0m\n\u001b[1;37m                                  ^\u001b[0m\n\u001b[1;31mSyntaxError\u001b[0m\u001b[1;31m:\u001b[0m unexpected EOF while parsing\n"
     ]
    }
   ],
   "source": [
    "#스킨톤 변환\n",
    "\n",
    "COLOUR_CORRECT_BLUR_FRAC = 0.6\n",
    "LEFT_EYE_POINTS = list(range(42, 48))\n",
    "RIGHT_EYE_POINTS = list(range(36, 42))\n",
    "\n",
    "def correct_colours(im1, im2, landmarks1):\n",
    "    blur_amount = COLOUR_CORRECT_BLUR_FRAC * numpy.linalg.norm(\n",
    "                              numpy.mean(landmarks1[LEFT_EYE_POINTS], axis=0) -\n",
    "                              numpy.mean(landmarks1[RIGHT_EYE_POINTS], axis=0))\n",
    "    blur_amount = int(blur_amount)\n",
    "    if blur_amount % 2 == 0:\n",
    "        blur_amount += 1\n",
    "    im1_blur = cv2.GaussianBlur(im1, (blur_amount, blur_amount), 0)\n",
    "    im2_blur = cv2.GaussianBlur(im2, (blur_amount, blur_amount), 0)\n",
    "\n",
    "    # Avoid divide-by-zero errors.\n",
    "    im2_blur += 128 * (im2_blur <= 1.0)\n",
    "\n",
    "    return (im2.astype(numpy.float64) * im1_blur.astype(numpy.float64) /\n",
    "                                                im2_blur.astype(numpy.float64)"
   ]
  },
  {
   "cell_type": "code",
   "execution_count": 12,
   "metadata": {},
   "outputs": [
    {
     "ename": "NameError",
     "evalue": "name 'im2' is not defined",
     "output_type": "error",
     "traceback": [
      "\u001b[1;31m---------------------------------------------------------------------------\u001b[0m",
      "\u001b[1;31mNameError\u001b[0m                                 Traceback (most recent call last)",
      "\u001b[1;32m<ipython-input-12-09b741b3963c>\u001b[0m in \u001b[0;36m<module>\u001b[1;34m()\u001b[0m\n\u001b[0;32m     33\u001b[0m     \u001b[1;32mreturn\u001b[0m \u001b[0mim\u001b[0m\u001b[1;33m\u001b[0m\u001b[0m\n\u001b[0;32m     34\u001b[0m \u001b[1;33m\u001b[0m\u001b[0m\n\u001b[1;32m---> 35\u001b[1;33m \u001b[0mmask\u001b[0m \u001b[1;33m=\u001b[0m \u001b[0mget_face_mask\u001b[0m\u001b[1;33m(\u001b[0m\u001b[0mim2\u001b[0m\u001b[1;33m,\u001b[0m \u001b[0mlandmarks2\u001b[0m\u001b[1;33m)\u001b[0m\u001b[1;33m\u001b[0m\u001b[0m\n\u001b[0m\u001b[0;32m     36\u001b[0m \u001b[0mwarped_mask\u001b[0m \u001b[1;33m=\u001b[0m \u001b[0mwarp_im\u001b[0m\u001b[1;33m(\u001b[0m\u001b[0mmask\u001b[0m\u001b[1;33m,\u001b[0m \u001b[0mM\u001b[0m\u001b[1;33m,\u001b[0m \u001b[0mim1\u001b[0m\u001b[1;33m.\u001b[0m\u001b[0mshape\u001b[0m\u001b[1;33m)\u001b[0m\u001b[1;33m\u001b[0m\u001b[0m\n\u001b[0;32m     37\u001b[0m combined_mask = numpy.max([get_face_mask(im1, landmarks1), warped_mask],\n",
      "\u001b[1;31mNameError\u001b[0m: name 'im2' is not defined"
     ]
    }
   ],
   "source": [
    "LEFT_EYE_POINTS = list(range(42, 48))\n",
    "RIGHT_EYE_POINTS = list(range(36, 42))\n",
    "LEFT_BROW_POINTS = list(range(22, 27))\n",
    "RIGHT_BROW_POINTS = list(range(17, 22))\n",
    "NOSE_POINTS = list(range(27, 35))\n",
    "MOUTH_POINTS = list(range(48, 61))\n",
    "\n",
    "OVERLAY_POINTS = [\n",
    "    LEFT_EYE_POINTS + RIGHT_EYE_POINTS + LEFT_BROW_POINTS + RIGHT_BROW_POINTS,\n",
    "    NOSE_POINTS + MOUTH_POINTS,\n",
    "]\n",
    "\n",
    "FEATHER_AMOUNT = 11\n",
    "\n",
    "#convexHULL : 2차원 평면에 N개의 점이 주어졌을때 이들중 몇개의 점을 골라 나머지 모든점을 그 안에 가두는 다각형 \n",
    "def draw_convex_hull(im, points, color):\n",
    "    points = cv2.convexHull(points)\n",
    "    cv2.fillConvexPoly(im, points, color=color)\n",
    "\n",
    "def get_face_mask(im, landmarks):\n",
    "    im = numpy.zeros(im.shape[:2], dtype=numpy.float64)\n",
    "\n",
    "    for group in OVERLAY_POINTS:\n",
    "        draw_convex_hull(im,\n",
    "                         landmarks[group],\n",
    "                         color=1)\n",
    "\n",
    "    im = numpy.array([im, im, im]).transpose((1, 2, 0))\n",
    "\n",
    "    im = (cv2.GaussianBlur(im, (FEATHER_AMOUNT, FEATHER_AMOUNT), 0) > 0) * 1.0\n",
    "    im = cv2.GaussianBlur(im, (FEATHER_AMOUNT, FEATHER_AMOUNT), 0)\n",
    "\n",
    "    return im\n",
    "\n",
    "mask = get_face_mask(im2, landmarks2)\n",
    "warped_mask = warp_im(mask, M, im1.shape)\n",
    "combined_mask = numpy.max([get_face_mask(im1, landmarks1), warped_mask],\n",
    "                          axis=0)\n"
   ]
  },
  {
   "cell_type": "code",
   "execution_count": null,
   "metadata": {},
   "outputs": [],
   "source": [
    "\n",
    "output_im = im1 * (1.0 - combined_mask) + warped_corrected_im2 * combined_mask"
   ]
  }
 ],
 "metadata": {
  "kernelspec": {
   "display_name": "Python 3",
   "language": "python",
   "name": "python3"
  },
  "language_info": {
   "codemirror_mode": {
    "name": "ipython",
    "version": 3
   },
   "file_extension": ".py",
   "mimetype": "text/x-python",
   "name": "python",
   "nbconvert_exporter": "python",
   "pygments_lexer": "ipython3",
   "version": "3.5.4"
  }
 },
 "nbformat": 4,
 "nbformat_minor": 2
}
