{
 "cells": [
  {
   "cell_type": "code",
   "execution_count": 39,
   "metadata": {},
   "outputs": [],
   "source": [
    "from imutils import face_utils \n",
    "import numpy as np\n",
    "import glob\n",
    "import argparse #명령행 인지 파싱모듈\n",
    "import imutils #이미지 좌우반전, 회전, 색상변환, 토폴로지골격화등을 해주는 함수가 담긴모듈 \n",
    "import dlib\n",
    "import cv2\n",
    "import _pickle as cPickle #메모장파일저장 easy"
   ]
  },
  {
   "cell_type": "code",
   "execution_count": 51,
   "metadata": {},
   "outputs": [],
   "source": [
    "def np2str(x,f):\n",
    "    for i in range(0,67) :\n",
    "        f.write(str(x[i][0]))\n",
    "        f.write(' ')\n",
    "        f.write(str(x[i][1]))\n",
    "        f.write('\\n')"
   ]
  },
  {
   "cell_type": "code",
   "execution_count": 52,
   "metadata": {},
   "outputs": [],
   "source": [
    "f=open(\"C:\\\\Users\\\\JE\\\\Desktop\\\\facial-landmarks\\\\points.txt\",'w')"
   ]
  },
  {
   "cell_type": "code",
   "execution_count": 53,
   "metadata": {},
   "outputs": [],
   "source": [
    "#이미지 위치에서 불러와서 resize\n",
    "test = 0\n",
    "image_list = []\n",
    "for filename in glob.glob('real_images/*.jpg'):\n",
    "    img = cv2.imread(filename)\n",
    "    img = imutils.resize(img, width=500)\n",
    "    image_list.append(img)\n"
   ]
  },
  {
   "cell_type": "code",
   "execution_count": 54,
   "metadata": {},
   "outputs": [],
   "source": [
    "#얼굴 검출기, facial landmark 예측기 (둘다 pretrained)\n",
    "detector = dlib.get_frontal_face_detector()\n",
    "predictor = dlib.shape_predictor('shape_predictor_68_face_landmarks.dat')"
   ]
  },
  {
   "cell_type": "code",
   "execution_count": 55,
   "metadata": {},
   "outputs": [],
   "source": [
    "for (j,color) in enumerate(image_list):\n",
    "    gray = cv2.cvtColor(color, cv2.COLOR_BGR2GRAY)\n",
    "    rects = detector(gray, 1) #얼굴검출기\n",
    "    \n",
    "    for(i,rect) in enumerate(rects): #얼굴갯수만큼 반복\n",
    "        \n",
    "        #facial landmark 예측해서 np배열로 만듬\n",
    "        shape = predictor(gray, rect)\n",
    "        shape = face_utils.shape_to_np(shape)\n",
    "        \n",
    "        #얼굴 landmark 표시\n",
    "        for (x, y) in shape:\n",
    "            cv2.circle(color, (x, y), 1, (0, 0, 255), -1)\n",
    "        \n",
    "#음...여러얼굴중에 하나라도 있으면 안되잖아..읻란은 데이터셋에 얼굴 1개만 있다고 가정      \n",
    "    np2str(shape,f)\n",
    "    \n",
    "    cv2.imwrite(\"C:\\\\Users\\\\JE\\\\Desktop\\\\facial-landmarks\\\\real_landmarks\\\\file%i.jpg\"%j,color) \n",
    "    cv2.waitKey(0)"
   ]
  },
  {
   "cell_type": "code",
   "execution_count": 56,
   "metadata": {},
   "outputs": [],
   "source": [
    "f.close()"
   ]
  }
 ],
 "metadata": {
  "kernelspec": {
   "display_name": "Python 3",
   "language": "python",
   "name": "python3"
  },
  "language_info": {
   "codemirror_mode": {
    "name": "ipython",
    "version": 3
   },
   "file_extension": ".py",
   "mimetype": "text/x-python",
   "name": "python",
   "nbconvert_exporter": "python",
   "pygments_lexer": "ipython3",
   "version": "3.5.4"
  }
 },
 "nbformat": 4,
 "nbformat_minor": 2
}
