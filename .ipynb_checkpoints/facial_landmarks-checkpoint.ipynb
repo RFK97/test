{
 "cells": [
  {
   "cell_type": "code",
   "execution_count": 1,
   "metadata": {},
   "outputs": [],
   "source": [
    "from imutils import face_utils \n",
    "import numpy as np\n",
    "import glob\n",
    "import imutils #이미지 좌우반전, 회전, 색상변환, 토폴로지골격화등을 해주는 함수가 담긴모듈 \n",
    "import dlib\n",
    "import cv2\n",
    "import pandas as pd"
   ]
  },
  {
   "cell_type": "code",
   "execution_count": 2,
   "metadata": {},
   "outputs": [],
   "source": [
    "#이미지 위치에서 불러와서 resize\n",
    "test = 0\n",
    "image_list = []\n",
    "\n",
    "for filename in glob.glob('real_images/*.jpg'):\n",
    "    img = cv2.imread(filename)\n",
    "    img = imutils.resize(img, width=500)\n",
    "    image_list.append(img)"
   ]
  },
  {
   "cell_type": "code",
   "execution_count": 3,
   "metadata": {},
   "outputs": [],
   "source": [
    "#얼굴 검출기, facial landmark 예측기 (둘다 pretrained)\n",
    "detector = dlib.get_frontal_face_detector()\n",
    "predictor = dlib.shape_predictor('shape_predictor_68_face_landmarks.dat')"
   ]
  },
  {
   "cell_type": "code",
   "execution_count": 4,
   "metadata": {},
   "outputs": [],
   "source": [
    "shape_list = []\n",
    "count = 0\n",
    "for (j,color) in enumerate(image_list):\n",
    "#    cv2.imwrite(\"C:\\\\Users\\\\JE\\\\Desktop\\\\facial-landmarks\\\\real_images\\\\file%i.jpg\"%j,color) \n",
    "#    cv2.imwrite(\"C:\\\\Users\\\\JE\\\\Desktop\\\\facial-landmarks\\\\fake_images\\\\file%i.jpg\"%j,color) \n",
    "#    cv2.imwrite(\"C:\\\\Users\\\\JE\\\\Desktop\\\\facial-landmarks\\\\test_images\\\\file%i.jpg\"%j,color) \n",
    "\n",
    "    gray = cv2.cvtColor(color, cv2.COLOR_BGR2GRAY)\n",
    "    rects = detector(gray, 1) #얼굴검출기, \n",
    "    #두번째 파라미터 : detector이용전에 이미지 업스케일링 할때 적용할 이미지 피라미드 레이어수 (cv2.pryUp N번과 동일)\n",
    "    \n",
    "    for(i,rect) in enumerate(rects): #얼굴갯수만큼 반복\n",
    "        \n",
    "        shape = predictor(gray, rect) #facial landmark 예측해서 np배열로 만듬\n",
    "        shape = face_utils.shape_to_np(shape)\n",
    "        #predictor 에 원래 이미지랑 검출된 얼굴이미지 두개 들어가는 이유 = 원래이미지에서 어디위치인지 알아야하니까\n",
    "        \n",
    "        #얼굴 landmark 표시\n",
    "        for (x, y) in shape:\n",
    "            cv2.circle(color, (x, y), 1, (0, 0, 255), -1)\n",
    "      \n",
    "        #csv파일로 저장하기 위해 한줄로 reshape <- 한줄로 Reshape안하고 3차원으로 하면 (68x2)xN개..?\n",
    "        ts = shape.reshape(136)\n",
    "\n",
    "        #라벨생성\n",
    "        ts = np.append(ts,1) #real \n",
    "#        ts = np.append(ts,0) #fake\n",
    "#        if count < 30 :\n",
    "#            ts = np.append(ts,0) \n",
    "#        else : \n",
    "#            ts = np.append(ts,1)\n",
    "        \n",
    "        #라벨추가\n",
    "        shape_list.append(ts)\n",
    "\n",
    "\n",
    "#    cv2.imwrite(\"C:\\\\Users\\\\JE\\\\Desktop\\\\facial-landmarks\\\\real_landmarks\\\\file%i.jpg\"%j,color) \n",
    "#    cv2.imwrite(\"C:\\\\Users\\\\JE\\\\Desktop\\\\facial-landmarks\\\\fake_landmarks\\\\file%i.jpg\"%j,color) \n",
    "#    cv2.imwrite(\"C:\\\\Users\\\\JE\\\\Desktop\\\\facial-landmarks\\\\test_landmarks\\\\file%i.jpg\"%j,color) \n",
    "    count=count+1\n",
    "\n",
    "    cv2.waitKey(0)"
   ]
  },
  {
   "cell_type": "code",
   "execution_count": 5,
   "metadata": {},
   "outputs": [],
   "source": [
    "df = pd.DataFrame(shape_list)\n",
    "\n",
    "#df.to_csv(\"C:\\\\Users\\\\JE\\\\Desktop\\\\facial-landmarks\\\\fake_points.csv\")\n",
    "#df.to_csv(\"C:\\\\Users\\\\JE\\\\Desktop\\\\facial-landmarks\\\\fake_points.csv\")\n",
    "df.to_csv(\"C:\\\\Users\\\\JE\\\\Desktop\\\\facial-landmarks\\\\real_points.csv\")"
   ]
  },
  {
   "cell_type": "code",
   "execution_count": 6,
   "metadata": {},
   "outputs": [
    {
     "data": {
      "text/plain": [
       "(771, 137)"
      ]
     },
     "execution_count": 6,
     "metadata": {},
     "output_type": "execute_result"
    }
   ],
   "source": [
    "np.shape(shape_list)"
   ]
  },
  {
   "cell_type": "code",
   "execution_count": null,
   "metadata": {},
   "outputs": [],
   "source": []
  }
 ],
 "metadata": {
  "kernelspec": {
   "display_name": "Python 3",
   "language": "python",
   "name": "python3"
  },
  "language_info": {
   "codemirror_mode": {
    "name": "ipython",
    "version": 3
   },
   "file_extension": ".py",
   "mimetype": "text/x-python",
   "name": "python",
   "nbconvert_exporter": "python",
   "pygments_lexer": "ipython3",
   "version": "3.5.4"
  }
 },
 "nbformat": 4,
 "nbformat_minor": 2
}
