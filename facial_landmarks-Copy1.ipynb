{
 "cells": [
  {
   "cell_type": "code",
   "execution_count": 1,
   "metadata": {},
   "outputs": [],
   "source": [
    "from imutils import face_utils \n",
    "import numpy as np\n",
    "import glob\n",
    "import imutils #이미지 좌우반전, 회전, 색상변환, 토폴로지골격화등을 해주는 함수가 담긴모듈 \n",
    "import dlib\n",
    "import cv2\n",
    "import csv"
   ]
  },
  {
   "cell_type": "code",
   "execution_count": 8,
   "metadata": {},
   "outputs": [],
   "source": [
    "#이미지 위치에서 불러와서 resize\n",
    "test = 0\n",
    "image_list = []\n",
    "\n",
    "for filename in glob.glob('fake_images/*.jpg'):\n",
    "    img = cv2.imread(filename)\n",
    "    img = imutils.resize(img, width=500)\n",
    "    image_list.append(img)"
   ]
  },
  {
   "cell_type": "code",
   "execution_count": 9,
   "metadata": {},
   "outputs": [],
   "source": [
    "#얼굴 검출기, facial landmark 예측기 (둘다 pretrained)\n",
    "detector = dlib.get_frontal_face_detector()\n",
    "predictor = dlib.shape_predictor('shape_predictor_68_face_landmarks.dat')"
   ]
  },
  {
   "cell_type": "code",
   "execution_count": 10,
   "metadata": {},
   "outputs": [],
   "source": [
    "f = open('fake_landmarks.csv', 'w', encoding='utf-8', newline='')\n",
    "wr = csv.writer(f)"
   ]
  },
  {
   "cell_type": "code",
   "execution_count": 7,
   "metadata": {},
   "outputs": [
    {
     "name": "stdout",
     "output_type": "stream",
     "text": [
      "[277 135 275 153 275 171 276 188 280 204 285 221 291 238 299 252 313 257\n",
      " 331 256 349 248 367 238 383 225 394 210 402 194 407 175 411 155 283 128\n",
      " 290 119 301 116 313 117 324 123 346 127 359 124 372 125 384 132 391 142\n",
      " 332 140 329 153 326 166 323 178 309 183 315 186 322 189 331 187 339 186\n",
      " 296 140 303 138 311 138 318 143 310 144 302 143 350 147 359 145 367 146\n",
      " 375 150 367 151 358 150 294 201 303 197 314 196 322 198 330 198 341 201\n",
      " 351 207 339 221 327 226 318 227 309 225 300 217 298 202 313 201 321 203\n",
      " 329 203 348 207 328 218 319 218 311 216]\n",
      "[369 226 369 232 368 239 369 245 370 252 373 258 377 263 382 269 388 271\n",
      " 395 271 403 268 409 264 414 258 417 252 419 245 420 239 421 232 372 221\n",
      " 376 219 380 220 384 221 387 223 398 224 403 223 407 222 412 223 416 226\n",
      " 392 229 391 234 390 239 389 244 385 245 387 247 390 248 393 247 396 246\n",
      " 376 227 379 226 382 227 385 229 382 229 379 228 401 230 404 229 408 229\n",
      " 411 230 407 231 404 231 378 249 383 250 387 251 390 252 393 251 398 251\n",
      " 404 251 398 257 393 259 389 259 386 258 382 255 380 250 387 252 390 253\n",
      " 393 253 402 252 393 256 390 256 386 255]\n"
     ]
    }
   ],
   "source": [
    "shape_list = []\n",
    "\n",
    "for (j,color) in enumerate(image_list):\n",
    "    gray = cv2.cvtColor(color, cv2.COLOR_BGR2GRAY)\n",
    "    rects = detector(gray, 1) #얼굴검출기\n",
    "    \n",
    "    for(i,rect) in enumerate(rects): #얼굴갯수만큼 반복\n",
    "        \n",
    "        #facial landmark 예측해서 np배열로 만듬\n",
    "        shape = predictor(gray, rect)\n",
    "        shape = face_utils.shape_to_np(shape)\n",
    "        \n",
    "        #얼굴 landmark 표시\n",
    "        for (x, y) in shape:\n",
    "            cv2.circle(color, (x, y), 1, (0, 0, 255), -1)\n",
    "      \n",
    "        #csv파일로 저장하기 위해 한줄로 reshape\n",
    "        ts = shape.reshape(136)\n",
    "        print(ts)\n",
    "\n",
    "    cv2.imwrite(\"C:\\\\Users\\\\JE\\\\Desktop\\\\facial-landmarks\\\\real_landmarks\\\\file%i.jpg\"%j,color) \n",
    "    cv2.waitKey(0)"
   ]
  },
  {
   "cell_type": "code",
   "execution_count": null,
   "metadata": {},
   "outputs": [],
   "source": [
    "f.close()"
   ]
  },
  {
   "cell_type": "code",
   "execution_count": 53,
   "metadata": {},
   "outputs": [],
   "source": [
    "df = pd.DataFrame(shape_list)\n",
    "df.to_csv(\"C:\\\\Users\\\\JE\\\\Desktop\\\\facial-landmarks\\\\real_points.csv\")"
   ]
  },
  {
   "cell_type": "code",
   "execution_count": null,
   "metadata": {},
   "outputs": [],
   "source": []
  }
 ],
 "metadata": {
  "kernelspec": {
   "display_name": "Python 3",
   "language": "python",
   "name": "python3"
  },
  "language_info": {
   "codemirror_mode": {
    "name": "ipython",
    "version": 3
   },
   "file_extension": ".py",
   "mimetype": "text/x-python",
   "name": "python",
   "nbconvert_exporter": "python",
   "pygments_lexer": "ipython3",
   "version": "3.5.4"
  }
 },
 "nbformat": 4,
 "nbformat_minor": 2
}
