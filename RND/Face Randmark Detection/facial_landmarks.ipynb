{
 "cells": [
  {
   "cell_type": "code",
   "execution_count": 7,
   "metadata": {},
   "outputs": [],
   "source": [
    "# face_utils.py의 두 함수\n",
    "#1. rect_to_bb(rect) -> opencv는 x,y,width,height로 생각하므로 rect 객체를 가져와서 좌표의 4튜플로 변환\n",
    "#2. shape_to_np(shape, dtype=\"int\"):-> 68개의 x,y 좌표를 포함하는 모양 객체 반환\n",
    " "
   ]
  },
  {
   "cell_type": "code",
   "execution_count": 6,
   "metadata": {},
   "outputs": [],
   "source": [
    "from imutils import face_utils #근데 밑에서 가져올거면 위에서 왜가져오냐..\n",
    "import numpy as np\n",
    "import argparse #명령행 인지 파싱모듈\n",
    "import imutils #이미지 좌우반전, 회전, 색상변환, 토폴로지골격화등을 해주는 함수가 담긴모듈 https://www.pyimagesearch.com/2015/02/02/just-open-sourced-personal-imutils-package-series-opencv-convenience-functions/ \n",
    "import dlib\n",
    "import cv2"
   ]
  },
  {
   "cell_type": "code",
   "execution_count": 7,
   "metadata": {},
   "outputs": [
    {
     "name": "stderr",
     "output_type": "stream",
     "text": [
      "usage: ipykernel_launcher.py [-h] -p SHAPE_PREDICTOR -i IMAGE\n",
      "ipykernel_launcher.py: error: the following arguments are required: -p/--shape-predictor, -i/--image\n"
     ]
    },
    {
     "ename": "SystemExit",
     "evalue": "2",
     "output_type": "error",
     "traceback": [
      "An exception has occurred, use %tb to see the full traceback.\n",
      "\u001b[1;31mSystemExit\u001b[0m\u001b[1;31m:\u001b[0m 2\n"
     ]
    },
    {
     "name": "stderr",
     "output_type": "stream",
     "text": [
      "c:\\users\\je\\appdata\\local\\programs\\python\\python35\\lib\\site-packages\\IPython\\core\\interactiveshell.py:2918: UserWarning: To exit: use 'exit', 'quit', or Ctrl-D.\n",
      "  warn(\"To exit: use 'exit', 'quit', or Ctrl-D.\", stacklevel=1)\n"
     ]
    }
   ],
   "source": [
    "#argparse는 아직 명확히 이해안감.. 돌려보고싶은데 잘 안돌아가서..\n",
    "ap = argparse.ArgumentParser()\n",
    "ap.add_argument(\"-p\", \"--shape-predictor\" , required = True, \n",
    "                help=\"path to facial landmark predictor\")\n",
    "# dlib의 pre-trained facial landmark detector의 위치를 받아옴(cmd에서) \n",
    "ap.add_argument(\"-i\",\"--image\",required=True,\n",
    "               help=\"path to input image\")\n",
    "args=vars(ap.parse_args()) \n",
    "#vars는 __dict__를 반환해줌.\n",
    "#dict는 dictionary 약자로, 키를 입력하면 value를 내뱉음. 홍:길동 "
   ]
  },
  {
   "cell_type": "code",
   "execution_count": 8,
   "metadata": {},
   "outputs": [
    {
     "ename": "NameError",
     "evalue": "name 'args' is not defined",
     "output_type": "error",
     "traceback": [
      "\u001b[1;31m---------------------------------------------------------------------------\u001b[0m",
      "\u001b[1;31mNameError\u001b[0m                                 Traceback (most recent call last)",
      "\u001b[1;32m<ipython-input-8-e0e066b1c1ce>\u001b[0m in \u001b[0;36m<module>\u001b[1;34m()\u001b[0m\n\u001b[0;32m      1\u001b[0m \u001b[0mdetector\u001b[0m \u001b[1;33m=\u001b[0m \u001b[0mdlib\u001b[0m\u001b[1;33m.\u001b[0m\u001b[0mget_frontal_face_detector\u001b[0m\u001b[1;33m(\u001b[0m\u001b[1;33m)\u001b[0m\u001b[1;33m\u001b[0m\u001b[0m\n\u001b[1;32m----> 2\u001b[1;33m \u001b[0mpredictor\u001b[0m \u001b[1;33m=\u001b[0m \u001b[0mdlib\u001b[0m\u001b[1;33m.\u001b[0m\u001b[0mshape_predictor\u001b[0m\u001b[1;33m(\u001b[0m\u001b[0margs\u001b[0m\u001b[1;33m[\u001b[0m\u001b[1;34m\"shape_predictor\"\u001b[0m\u001b[1;33m]\u001b[0m\u001b[1;33m)\u001b[0m \u001b[1;31m#그래서 이줄도 이해안감\u001b[0m\u001b[1;33m\u001b[0m\u001b[0m\n\u001b[0m\u001b[0;32m      3\u001b[0m \u001b[1;31m#원래라면 args=ap.parse_args() 해서 args.shape_predictor 를 하는데 vars함수때문에 바뀐듯한데..\u001b[0m\u001b[1;33m\u001b[0m\u001b[1;33m\u001b[0m\u001b[0m\n",
      "\u001b[1;31mNameError\u001b[0m: name 'args' is not defined"
     ]
    }
   ],
   "source": [
    "detector = dlib.get_frontal_face_detector() # dlib의 face_detector로 이니셜라이즈 \n",
    "predictor = dlib.shape_predictor(args[\"shape_predictor\"])  #dlib의 shape_predictor로 face landmark 찾음\n",
    "#args[\"shape_predictor\"] \n",
    "#     --shape-predictor를 가지고 facial landmark preictor를 로드.  \n",
    "#     args[] 는 key를 넣으면 value를 주는거라고했지? \n",
    "#     key : --shape-predictor, \n",
    "#     value : cmd에서 --shape-predictor를 친 다음에 입력한 shapepredictor.dat의 위치임.\n"
   ]
  },
  {
   "cell_type": "code",
   "execution_count": null,
   "metadata": {},
   "outputs": [],
   "source": [
    "#load images, resize, conver to grayscale\n",
    "image = cv2.imread(args[\"image\"])\n",
    "image = imutils.resize(image, width=500)\n",
    "gray = cv2.cvtColor(image, cv2.COLOR_BGR2GRAY)\n",
    " \n",
    "#얼굴의 경계상자 \n",
    "rects = detector(gray, 1) #gray이미지에서 cv2.pryUP 1번 계산\n",
    "#pryUP : 이미지를 업 스케일링 할 때 적용 할 이미지 피라미드 레이어의 수\n",
    "#얼굴 검색 전에 입력 이미지의 해상도를 높이면 이미지에서 더 많은 얼굴을 감지 할 수 있다\n",
    "#단점->입력 이미지가 클수록 오래걸림\n"
   ]
  },
  {
   "cell_type": "code",
   "execution_count": 5,
   "metadata": {},
   "outputs": [
    {
     "ename": "NameError",
     "evalue": "name 'args' is not defined",
     "output_type": "error",
     "traceback": [
      "\u001b[1;31m---------------------------------------------------------------------------\u001b[0m",
      "\u001b[1;31mNameError\u001b[0m                                 Traceback (most recent call last)",
      "\u001b[1;32m<ipython-input-5-c234d6766714>\u001b[0m in \u001b[0;36m<module>\u001b[1;34m()\u001b[0m\n\u001b[1;32m----> 1\u001b[1;33m \u001b[0ma\u001b[0m\u001b[1;33m=\u001b[0m \u001b[0margs\u001b[0m\u001b[1;33m[\u001b[0m\u001b[1;34m\"3\"\u001b[0m\u001b[1;33m]\u001b[0m\u001b[1;33m\u001b[0m\u001b[0m\n\u001b[0m\u001b[0;32m      2\u001b[0m \u001b[0ma\u001b[0m\u001b[1;33m\u001b[0m\u001b[0m\n",
      "\u001b[1;31mNameError\u001b[0m: name 'args' is not defined"
     ]
    }
   ],
   "source": [
    "# 얼굴갯수만큼 반복\n",
    "for (i, rect) in enumerate(rects): #enumerate : 리스트의 순서와 값을 열거\n",
    "\n",
    "    shape = predictor(gray, rect) #얼굴영역의 facelandmark 결정. 68개의 (x,y)좌표 제공\n",
    "    shape = face_utils.shape_to_np(shape) # facelandmark(x,y) 좌표를 (68,2)numpy배열로 변환\n",
    " \n",
    "    (x, y, w, h) = face_utils.rect_to_bb(rect) #dlib의 recta(x,y좌표) 을 opencv style(x,y,w,h) 로 바꿈\n",
    "    cv2.rectangle(image, (x, y), (x + w, y + h), (0, 255, 0), 2) #그위치에 눈에보이는 rectangle 그림\n",
    " \n",
    "\t# show the face (얼굴의 인덱스 그림)\n",
    "\tcv2.putText(image, \"Face #{}\".format(i + 1), (x - 10, y - 10),\n",
    "\t\tcv2.FONT_HERSHEY_SIMPLEX, 0.5, (0, 255, 0), 2)\n",
    " \n",
    "\t# 검출된 얼굴표식을 이미지에 동그라미로 그림\n",
    "\tfor (x, y) in shape:\n",
    "\t\tcv2.circle(image, (x, y), 1, (0, 0, 255), -1)\n",
    "\n",
    "#이미지 보여줌\n",
    "cv2.imshow(\"Output\", image)\n",
    "cv2.waitKey(0)"
   ]
  },
  {
   "cell_type": "code",
   "execution_count": null,
   "metadata": {},
   "outputs": [],
   "source": []
  }
 ],
 "metadata": {
  "kernelspec": {
   "display_name": "Python 3",
   "language": "python",
   "name": "python3"
  },
  "language_info": {
   "codemirror_mode": {
    "name": "ipython",
    "version": 3
   },
   "file_extension": ".py",
   "mimetype": "text/x-python",
   "name": "python",
   "nbconvert_exporter": "python",
   "pygments_lexer": "ipython3",
   "version": "3.5.4"
  }
 },
 "nbformat": 4,
 "nbformat_minor": 2
}
